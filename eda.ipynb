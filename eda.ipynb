{
  "cells": [
    {
      "cell_type": "markdown",
      "metadata": {},
      "source": [
        "# MovieLens Preprocessing: Build cleaned_movies.csv\n\nThis notebook loads the MovieLens small dataset, cleans movie titles and genres, computes per-movie average ratings and normalized scores, joins TMDb IDs for posters, and saves a compact `cleaned_movies.csv` for the Streamlit hybrid recommender.\n\nDatasets used (from `ml-latest-small 2/`):\n- `movies.csv` (movieId, title, genres)\n- `ratings.csv` (userId, movieId, rating, timestamp)\n- `links.csv` (movieId, imdbId, tmdbId)\n\nOutput:\n- `/workspace/cleaned_movies.csv` with columns: `movieId`, `tmdbId`, `title` (lowercase), `genres_text`, `avg_rating`, `norm_rating`, `rating_count`."
      ]
    },
    {
      "cell_type": "code",
      "metadata": {},
      "source": [
        "import pandas as pd\n",
        "import numpy as np\n",
        "from pathlib import Path\n",
        "\n",
        "DATA_DIR = Path('ml-latest-small 2')\n",
        "MOVIES_CSV = DATA_DIR / 'movies.csv'\n",
        "RATINGS_CSV = DATA_DIR / 'ratings.csv'\n",
        "LINKS_CSV = DATA_DIR / 'links.csv'\n",
        "OUTPUT_CSV = Path('cleaned_movies.csv')\n"
      ],
      "execution_count": null,
      "outputs": []
    },
    {
      "cell_type": "code",
      "metadata": {},
      "source": [
        "movies = pd.read_csv(MOVIES_CSV)\n",
        "ratings = pd.read_csv(RATINGS_CSV)\n",
        "links = pd.read_csv(LINKS_CSV)\n",
        "movies.head(), ratings.head(), links.head()\n"
      ],
      "execution_count": null,
      "outputs": []
    },
    {
      "cell_type": "code",
      "metadata": {},
      "source": [
        "# Clean titles and genres\n",
        "movies['title'] = movies['title'].fillna('').str.strip().str.lower()\n",
        "movies['genres'] = movies['genres'].fillna('(no genres listed)')\n",
        "# Split and normalize genres\n",
        "movies['genres_list'] = movies['genres'].str.split('|')\n",
        "movies['genres_list'] = movies['genres_list'].apply(lambda lst: [g.strip().lower().replace('-', ' ') for g in lst] if isinstance(lst, list) else [])\n",
        "movies['genres_text'] = movies['genres_list'].apply(lambda lst: ' '.join(sorted(set(lst))))\n",
        "movies[['movieId','title','genres_text']].head()\n"
      ],
      "execution_count": null,
      "outputs": []
    },
    {
      "cell_type": "code",
      "metadata": {},
      "source": [
        "# Compute average rating and counts per movie\n",
        "ratings = ratings.dropna(subset=['movieId','rating'])\n",
        "agg = ratings.groupby('movieId').agg(avg_rating=('rating','mean'), rating_count=('rating','size')).reset_index()\n",
        "# Normalize avg_rating between 0 and 1\n",
        "if not agg.empty:\n",
        "    min_r, max_r = agg['avg_rating'].min(), agg['avg_rating'].max()\n",
        "    if max_r > min_r:\n",
        "        agg['norm_rating'] = (agg['avg_rating'] - min_r) / (max_r - min_r)\n",
        "    else:\n",
        "        agg['norm_rating'] = 0.5\n",
        "else:\n",
        "    agg['norm_rating'] = pd.Series(dtype=float)\n",
        "agg.head()\n"
      ],
      "execution_count": null,
      "outputs": []
    },
    {
      "cell_type": "code",
      "metadata": {},
      "source": [
        "# Merge datasets\n",
        "df = movies.merge(links[['movieId','tmdbId']], on='movieId', how='left')\n",
        "df = df.merge(agg, on='movieId', how='left')\n",
        "# Fill missing ratings\n",
        "df['avg_rating'] = df['avg_rating'].fillna(0.0)\n",
        "df['norm_rating'] = df['norm_rating'].fillna(0.0)\n",
        "df['rating_count'] = df['rating_count'].fillna(0).astype(int)\n",
        "# Clean tmdbId to int where possible\n",
        "def to_int_or_none(x):\n",
        "    try:\n",
        "        xi = int(x)\n",
        "        return xi if xi > 0 else np.nan\n",
        "    except Exception:\n",
        "        return np.nan\n",
        "df['tmdbId'] = df['tmdbId'].apply(to_int_or_none)\n",
        "# Select columns and save\n",
        "out_cols = ['movieId','tmdbId','title','genres_text','avg_rating','norm_rating','rating_count']\n",
        "cleaned = df[out_cols].copy()\n",
        "cleaned.to_csv(OUTPUT_CSV, index=False)\n",
        "cleaned.head(10)\n"
      ],
      "execution_count": null,
      "outputs": []
    },
    {
      "cell_type": "markdown",
      "metadata": {},
      "source": [
        "Now you can run the Streamlit app which loads `cleaned_movies.csv`."
      ]
    },
    {
      "cell_type": "code",
      "metadata": {},
      "source": [
        "# Visualization: Top Genres (bar) and Rating Distribution (hist)\n",
        "import pandas as pd\n",
        "import matplotlib.pyplot as plt\n",
        "import seaborn as sns\n",
        "sns.set_theme(style=\"whitegrid\")\n",
        "\n",
        "# Ensure `cleaned` exists; if not, read from disk\n",
        "try:\n",
        "    cleaned\n",
        "except NameError:\n",
        "    cleaned = pd.read_csv('cleaned_movies.csv')\n",
        "\n",
        "# Top genres bar plot\n",
        "genres_flat = []\n",
        "for g in cleaned['genres_text'].fillna(''):\n",
        "    genres_flat += str(g).split()\n",
        "\n",
        "if genres_flat:\n",
        "    genre_counts = pd.Series(genres_flat).value_counts().head(10)\n",
        "    fig, ax = plt.subplots(figsize=(8, 4))\n",
        "    sns.barplot(x=genre_counts.values, y=genre_counts.index, ax=ax, palette=\"Blues_r\")\n",
        "    ax.set_title('Top 10 Genres')\n",
        "    ax.set_xlabel('Count')\n",
        "    ax.set_ylabel('Genre')\n",
        "    plt.show()\n",
        "\n",
        "# Rating distribution histogram (average rating per movie)\n",
        "fig2, ax2 = plt.subplots(figsize=(7, 4))\n",
        "sns.histplot(cleaned['avg_rating'], bins=20, kde=False, ax=ax2, color=\"#4c72b0\")\n",
        "ax2.set_title('Average Rating Distribution (per Movie)')\n",
        "ax2.set_xlabel('Average Rating')\n",
        "ax2.set_ylabel('Number of Movies')\n",
        "plt.show()"
      ],
      "execution_count": null,
      "outputs": [],
      "id": "3cdff4e4"
    },
    {
      "cell_type": "code",
      "metadata": {},
      "source": [
        "# Pairplot of rating metrics\n",
        "import pandas as pd\n",
        "import seaborn as sns\n",
        "import matplotlib.pyplot as plt\n",
        "sns.set_theme(style=\"ticks\")\n",
        "\n",
        "try:\n",
        "    cleaned\n",
        "except NameError:\n",
        "    cleaned = pd.read_csv('cleaned_movies.csv')\n",
        "\n",
        "pair_cols = ['avg_rating', 'norm_rating', 'rating_count']\n",
        "subset = cleaned[pair_cols].copy()\n",
        "# Avoid extremely skewed scales by clipping rating_count for nicer plots\n",
        "subset['rating_count_clipped'] = subset['rating_count'].clip(upper=subset['rating_count'].quantile(0.99))\n",
        "\n",
        "sns.pairplot(\n",
        "    subset.rename(columns={'rating_count_clipped': 'rating_count (clipped)'}),\n",
        "    vars=['avg_rating', 'norm_rating', 'rating_count (clipped)'],\n",
        "    diag_kind='hist',\n",
        "    corner=True\n",
        ")\n",
        "plt.suptitle('Pairplot: avg_rating, norm_rating, rating_count', y=1.02)\n",
        "plt.show()"
      ],
      "execution_count": null,
      "outputs": [],
      "id": "a2b8680d"
    }
  ],
  "metadata": {
    "kernelspec": {
      "display_name": "Python 3",
      "language": "python",
      "name": "python3"
    },
    "language_info": {
      "name": "python",
      "version": "3.x"
    }
  },
  "nbformat": 4,
  "nbformat_minor": 5
}